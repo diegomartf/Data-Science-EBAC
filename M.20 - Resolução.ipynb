{
 "cells": [
  {
   "cell_type": "markdown",
   "metadata": {},
   "source": [
    "## Fórmula de Bhaskara\n",
    "\n",
    "A solução para uma função de segundo grau depende das suas raízes (valores de x). Como ja vimos, os coeficientes precisam se números reais e o angular diferente de zero. Sendo assim, temos a seguinte fórmula de Bhaskara:\n",
    "\n",
    "$$x = \\frac{-\\boldsymbol{b} \\pm \\sqrt{\\boldsymbol{b}^2 - 4\\boldsymbol{a}\\boldsymbol{c}}}{2\\boldsymbol{a}}$$\n",
    "$$\\text{Fórmula de Bhaskara}$$\n",
    "\n",
    "Para melhor compreensão o seu cálculo é dividido em duas partes: discriminante da equação e operações para determinas as raízes.\n",
    "\n",
    "<b>Discriminante</b>\n",
    "\n",
    "A figura dentro da raíz na fórmula de bhaskara é nomeada de discriminante. Seu símbolo é a letra grega delta e apresenta a determinada fórmula:\n",
    "\n",
    "$$\\Delta = b²-4.a.c$$\n",
    "$$\\text{Fórmula do Discriminante}$$\n",
    "\n",
    "- Se o delta for maior que zero, a equação terá dois valores reais e distintos\n",
    "- Se o delta for igual a zero, a equação terá somente um valor real ou dois resultados iguais\n",
    "- Se o delta for menor que zero, a equação não possuirá valores."
   ]
  }
 ],
 "metadata": {
  "language_info": {
   "name": "python"
  }
 },
 "nbformat": 4,
 "nbformat_minor": 2
}
