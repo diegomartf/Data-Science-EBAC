{
  "cells": [
    {
      "cell_type": "markdown",
      "metadata": {
        "id": "oKJ63sv03mNF"
      },
      "source": [
        "<img src=\"https://raw.githubusercontent.com/andre-marcos-perez/ebac-course-utils/main/media/logo/newebac_logo_black_half.png\" alt=\"ebac-logo\">\n",
        "\n",
        "---"
      ]
    },
    {
      "cell_type": "markdown",
      "metadata": {
        "id": "L0RLJfqczT7X"
      },
      "source": [
        "# **Módulo 06** | Python: Programação Orientada a Objetos"
      ]
    },
    {
      "cell_type": "markdown",
      "metadata": {
        "id": "qHPXiq6IzXjG"
      },
      "source": [
        "# **Tópicos/Exercícios**\n",
        "\n",
        "<ol type=\"1\">\n",
        "  <li>Um pouco de teoria;</li>\n",
        "  <li>Classes;</li>\n",
        "  <li>Objetos;</li>\n",
        "  <li>Herança.</li>\n",
        "</ol>"
      ]
    },
    {
      "cell_type": "markdown",
      "metadata": {
        "id": "syVczIAwGO3A"
      },
      "source": [
        "## 0\\. Preparação do ambiente"
      ]
    },
    {
      "cell_type": "markdown",
      "metadata": {
        "id": "2X3TrxdzGO3C"
      },
      "source": [
        "Neste exercício vamos trabalhar com os arquivos de csv e texto definidos abaixo. Execute cada uma das células de código para escrever os arquivos na sua máquina virtual."
      ]
    },
    {
      "cell_type": "markdown",
      "metadata": {
        "id": "3cH67RKZzc9B"
      },
      "source": [
        "* **carros.csv**: arquivo csv com informações sobre carros (venda, manutenção, portas, etc.)."
      ]
    },
    {
      "cell_type": "code",
      "execution_count": 51,
      "metadata": {
        "colab": {
          "base_uri": "https://localhost:8080/"
        },
        "id": "Ohao03egzc9B",
        "outputId": "57203993-ec11-4a59-8e85-7afefcba9314"
      },
      "outputs": [
        {
          "name": "stdout",
          "output_type": "stream",
          "text": [
            "Overwriting carros.csv\n"
          ]
        }
      ],
      "source": [
        "%%writefile carros.csv\n",
        "id,valor_venda,valor_manutencao,portas,pessoas,porta_malas\n",
        "1,vhigh,med,2,2,small\n",
        "2,med,vhigh,2,2,small\n",
        "3,low,vhigh,2,2,small\n",
        "4,low,high,2,2,small\n",
        "5,low,high,2,2,small\n",
        "6,low,high,4,4,big\n",
        "7,low,high,4,4,big\n",
        "8,low,med,2,2,small\n",
        "9,low,med,2,2,small\n",
        "10,low,med,2,2,small\n",
        "11,low,med,4,4,big\n",
        "12,low,low,2,2,small\n",
        "13,low,low,4,4,small\n",
        "14,low,low,4,4,med"
      ]
    },
    {
      "cell_type": "markdown",
      "metadata": {
        "id": "eaKZoLRVzc9B"
      },
      "source": [
        "* **musica.txt**: arquivo texto com a letra da música Roda Viva do Chico Buarque."
      ]
    },
    {
      "cell_type": "code",
      "execution_count": 52,
      "metadata": {
        "colab": {
          "base_uri": "https://localhost:8080/"
        },
        "id": "-rKbRSH9zc9B",
        "outputId": "1face2af-9764-4af1-9bc7-1a9eac55f4cf"
      },
      "outputs": [
        {
          "name": "stdout",
          "output_type": "stream",
          "text": [
            "Overwriting musica.txt\n"
          ]
        }
      ],
      "source": [
        "%%writefile musica.txt\n",
        "Roda Viva\n",
        "Chico Buarque\n",
        "\n",
        "Tem dias que a gente se sente\n",
        "Como quem partiu ou morreu\n",
        "A gente estancou de repente\n",
        "Ou foi o mundo então que cresceu\n",
        "A gente quer ter voz ativa\n",
        "No nosso destino mandar\n",
        "Mas eis que chega a roda viva\n",
        "E carrega o destino pra lá\n",
        "\n",
        "Roda mundo, roda-gigante\n",
        "Roda moinho, roda pião\n",
        "\n",
        "O tempo rodou num instante\n",
        "Nas voltas do meu coração\n",
        "A gente vai contra a corrente\n",
        "Até não poder resistir\n",
        "Na volta do barco é que sente\n",
        "O quanto deixou de cumprir\n",
        "Faz tempo que a gente cultiva\n",
        "A mais linda roseira que há\n",
        "Mas eis que chega a roda viva\n",
        "E carrega a roseira pra lá\n",
        "\n",
        "Roda mundo, roda-gigante\n",
        "Roda moinho, roda pião"
      ]
    },
    {
      "cell_type": "markdown",
      "metadata": {
        "id": "hpqV4OSWzc9C"
      },
      "source": [
        "## 1\\. Classe para ler arquivos de texto"
      ]
    },
    {
      "cell_type": "markdown",
      "metadata": {
        "id": "HQrKGtoMGjf6"
      },
      "source": [
        "Crie a classe `ArquivoTexto`. Ela deve conter os seguintes atributos:\n",
        "\n",
        "*   `self.arquivo`: Atributo do tipo `str` com o nome do arquivo;\n",
        "*   `self.conteudo`: Atributo do tipo `list` onde cada elemento é uma linha do arquivo;\n",
        "\n",
        "A classe também deve conter o seguinte método:\n",
        "\n",
        "*   `self.extrair_conteudo`: Método que realiza a leitura do arquivo e retorna o conteúdo.\n",
        "\n",
        "*   `self.extrair_linha`: Método que recebe como parâmetro o número da linha e retorna a linha do conteúdo.\n"
      ]
    },
    {
      "cell_type": "code",
      "execution_count": 53,
      "metadata": {
        "id": "Og66lmYDsRag"
      },
      "outputs": [],
      "source": [
        "class ArquivoTexto(object):\n",
        "\n",
        "  def __init__(self, arquivo: str):\n",
        "    self.arquivo = arquivo\n",
        "    self.conteudo = []\n",
        "    \n",
        "  def extrair_conteudo(self):\n",
        "    try:\n",
        "        with open(self.arquivo, 'r', encoding='utf-8') as file:\n",
        "            self.conteudo = file.readlines()\n",
        "        return self.conteudo\n",
        "    except FileNotFoundError:\n",
        "        raise FileNotFoundError(f\"O arquivo '{self.arquivo}' não foi encontrado.\")\n",
        "    except Exception as e:\n",
        "        raise Exception(f\"Ocorreu um erro ao ler o arquivo: {e}\")\n",
        "  \n",
        "  def _extrair_linha(self, numero_linha: int):\n",
        "    if not self.conteudo:\n",
        "        raise ValueError(\"O conteúdo do arquivo ainda não foi carregado. Use o método 'extrair_conteudo' antes.\")\n",
        "    try:\n",
        "        return self.conteudo[numero_linha].strip()  # Remove espaços ou quebras de linha extras\n",
        "    except IndexError:\n",
        "        raise IndexError(f\"O número da linha '{numero_linha}' está fora do alcance do arquivo.\")"
      ]
    },
    {
      "cell_type": "code",
      "execution_count": 54,
      "metadata": {},
      "outputs": [],
      "source": [
        "class ArquivoTexto(object):\n",
        "\n",
        "    def __init__(self, arquivo: str):\n",
        "        self.arquivo = arquivo\n",
        "        self.conteudo = []\n",
        "\n",
        "    def extrair_conteudo(self):\n",
        "        try:\n",
        "            with open(self.arquivo, 'r', encoding='utf-8') as file:\n",
        "                self.conteudo = file.readlines()\n",
        "            return self.conteudo\n",
        "        except FileNotFoundError:\n",
        "            raise FileNotFoundError(f\"O arquivo '{self.arquivo}' não foi encontrado.\")\n",
        "        except Exception as e:\n",
        "            raise Exception(f\"Ocorreu um erro ao ler o arquivo: {e}\")\n",
        "\n",
        "    def _extrair_linha(self, numero_linha: int):\n",
        "        if not self.conteudo:\n",
        "            raise ValueError(\"O conteúdo do arquivo ainda não foi carregado. Use o método 'extrair_conteudo' antes.\")\n",
        "        try:\n",
        "            return self.conteudo[numero_linha].strip()  # Remove espaços ou quebras de linha extras\n",
        "        except IndexError:\n",
        "            raise IndexError(f\"O número da linha '{numero_linha}' está fora do alcance do arquivo.\")\n"
      ]
    },
    {
      "cell_type": "markdown",
      "metadata": {
        "id": "866OgsyHHw2M"
      },
      "source": [
        "Utilize o código abaixo para testar sua classe."
      ]
    },
    {
      "cell_type": "code",
      "execution_count": 55,
      "metadata": {
        "id": "eDM1iuCa4FT0"
      },
      "outputs": [
        {
          "name": "stdout",
          "output_type": "stream",
          "text": [
            "Roda Viva\n",
            "Mas eis que chega a roda viva\n"
          ]
        }
      ],
      "source": [
        "arquivo_texto = ArquivoTexto(arquivo='musica.txt')\n",
        "arquivo_texto.extrair_conteudo()\n",
        "\n",
        "numero_linha = 0\n",
        "print(arquivo_texto._extrair_linha(numero_linha=numero_linha)) # Roda Viva\n",
        "\n",
        "numero_linha = 9\n",
        "print(arquivo_texto._extrair_linha(numero_linha=numero_linha)) # Mas eis que chega a roda viva"
      ]
    },
    {
      "cell_type": "markdown",
      "metadata": {
        "id": "AW0UIY6Yzc9C"
      },
      "source": [
        "---"
      ]
    },
    {
      "cell_type": "markdown",
      "metadata": {
        "id": "aQ8euzThIlLl"
      },
      "source": [
        "## 2\\. Classe para ler arquivos de csv"
      ]
    },
    {
      "cell_type": "markdown",
      "metadata": {
        "id": "EMWhvKAWIlL0"
      },
      "source": [
        "Crie a classe `ArquivoCSV`. Ela deve extender (herdar) a classe `ArquivoTexto` para reaproveitar os seus atributos (`self.arquivo` e `self.conteudo`). Além disso, adicione o seguinte atributo:\n",
        "\n",
        "*   `self.colunas`: Atributo do tipo `list` onde os elementos são os nome das colunas;\n",
        "\n",
        "A classe também deve conter o seguinte método:\n",
        "\n",
        "*   `self.extrair_nome_colunas`: Método que retorna o nome das colunas do arquivo.\n",
        "\n",
        "\n",
        "*   `extrair_coluna`: Método que recebe como parâmetro o indice da coluna e retorna o valor em questão."
      ]
    },
    {
      "cell_type": "code",
      "execution_count": 56,
      "metadata": {},
      "outputs": [],
      "source": [
        "class ArquivoCSV(ArquivoTexto):\n",
        "\n",
        "    def __init__(self, arquivo: str):\n",
        "        super().__init__(arquivo)\n",
        "        self.colunas = []\n",
        "\n",
        "    def extrair_linha(self, numero_linha: int):\n",
        "        if not self.conteudo:\n",
        "            self.extrair_conteudo()\n",
        "        try:\n",
        "            return self.conteudo[numero_linha].strip()\n",
        "        except IndexError:\n",
        "            raise IndexError(f\"A linha {numero_linha} não existe no arquivo.\")\n",
        "\n",
        "    def extrair_coluna_da_linha(self, numero_linha: int, numero_coluna: int):\n",
        "        if not self.conteudo:\n",
        "            self.extrair_conteudo()\n",
        "        try:\n",
        "            return self.conteudo[numero_linha].strip().split(\",\")[numero_coluna]\n",
        "        except IndexError:\n",
        "            raise IndexError(f\"O índice da coluna '{numero_coluna}' está fora do alcance das colunas disponíveis.\")\n",
        "\n",
        "    def extrair_nome_colunas(self):\n",
        "        if not self.conteudo:\n",
        "            self.extrair_conteudo()\n",
        "        self.colunas = self.conteudo[0].strip().split(\",\")\n",
        "        return self.colunas\n"
      ]
    },
    {
      "cell_type": "code",
      "execution_count": 57,
      "metadata": {},
      "outputs": [
        {
          "name": "stdout",
          "output_type": "stream",
          "text": [
            "1,vhigh,med,2,2,small\n",
            "[]\n",
            "10,low,med,2,2,small\n",
            "med\n",
            "med\n"
          ]
        }
      ],
      "source": [
        "arquivo_csv = ArquivoCSV(arquivo='carros.csv')\n",
        "\n",
        "numero_linha = 1\n",
        "print(arquivo_csv.extrair_linha(numero_linha=numero_linha))  # Exemplo esperado: 'id,valor_venda,valor_manutencao,portas,pessoas,porta_malas'\n",
        "\n",
        "print(arquivo_csv.colunas)  # Exemplo esperado: ['id', 'valor_venda', 'valor_manutencao', 'portas', 'pessoas', 'porta_malas']\n",
        "\n",
        "numero_linha = 10\n",
        "print(arquivo_csv.extrair_linha(numero_linha=numero_linha))  # Exemplo esperado: '9,low,med,2,2,small'\n",
        "\n",
        "indice_coluna = 2\n",
        "numero_linha = 1  # Definindo um número de linha, pois a função requer tanto linha quanto coluna\n",
        "print(arquivo_csv.extrair_coluna_da_linha(numero_linha=numero_linha, numero_coluna=indice_coluna))  # Exemplo esperado: 'med'\n",
        "\n",
        "numero_linha = 10\n",
        "numero_coluna = 2\n",
        "print(arquivo_csv.extrair_coluna_da_linha(numero_linha=numero_linha, numero_coluna=numero_coluna))  # Exemplo esperado: 'low'\n"
      ]
    }
  ],
  "metadata": {
    "colab": {
      "provenance": []
    },
    "kernelspec": {
      "display_name": "base",
      "language": "python",
      "name": "python3"
    },
    "language_info": {
      "codemirror_mode": {
        "name": "ipython",
        "version": 3
      },
      "file_extension": ".py",
      "mimetype": "text/x-python",
      "name": "python",
      "nbconvert_exporter": "python",
      "pygments_lexer": "ipython3",
      "version": "3.11.5"
    }
  },
  "nbformat": 4,
  "nbformat_minor": 0
}
