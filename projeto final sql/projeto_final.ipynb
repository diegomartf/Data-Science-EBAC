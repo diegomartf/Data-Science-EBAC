{
 "cells": [
  {
   "cell_type": "markdown",
   "id": "85e29dad",
   "metadata": {},
   "source": [
    "# Análise de Dados de Crédito usando Sql"
   ]
  },
  {
   "cell_type": "markdown",
   "id": "cc6ae865",
   "metadata": {},
   "source": [
    "## 1. Introdução\n",
    "O objetivo deste projeto é analisar um conjunto de dados de crédito de clientes, buscando entender o perfil demográfico, socioeconômico e financeiro dos mesmos. A partir dessa análise, pretendemos identificar padrões, oportunidades e possíveis recomendações para o negócio."
   ]
  },
  {
   "cell_type": "markdown",
   "id": "079de406",
   "metadata": {},
   "source": [
    "## 2. Exploração Inicial dos Dados\n",
    "Primeiramente, exploramos o dataset para entender sua estrutura, quantidade de registros e possíveis valores nulos. Também analisamos as primeiras linhas para ter uma visão geral das variáveis disponíveis, como idade, gênero, escolaridade, estado civil, faixa de renda, cor do cartão, entre outras."
   ]
  },
  {
   "cell_type": "markdown",
   "id": "a8ef567b",
   "metadata": {},
   "source": [
    "**Quantidade de linhas no dataset**"
   ]
  },
  {
   "cell_type": "markdown",
   "id": "55e96072",
   "metadata": {},
   "source": [
    "![SELECT COUNT(*) as \"quantidade\" FROM credito;](/home/diego/Downloads/sql/query1.png)\n"
   ]
  },
  {
   "cell_type": "markdown",
   "id": "4bfdb069",
   "metadata": {},
   "source": [
    "**Ver as primeiras linhas**"
   ]
  },
  {
   "cell_type": "markdown",
   "id": "97586cc6",
   "metadata": {},
   "source": [
    "![SELECT COUNT(*) as \"quantidade\" FROM credito;](/home/diego/Downloads/sql/query2.png)\n"
   ]
  },
  {
   "cell_type": "markdown",
   "id": "869c9e69",
   "metadata": {},
   "source": [
    "**Verificar valores nulos por coluna**"
   ]
  },
  {
   "cell_type": "markdown",
   "id": "bc2c50c6",
   "metadata": {},
   "source": [
    "![](/home/diego/Downloads/sql/query3.png)"
   ]
  },
  {
   "cell_type": "markdown",
   "id": "160ce0c8",
   "metadata": {},
   "source": [
    "- *Não temos dados nulos no dataset.*"
   ]
  },
  {
   "cell_type": "markdown",
   "id": "d30bbb06",
   "metadata": {},
   "source": [
    "**Estatísticas descritivas para colunas numéricas**"
   ]
  },
  {
   "cell_type": "markdown",
   "id": "d859e952",
   "metadata": {},
   "source": [
    "![](/home/diego/Downloads/sql/query4.png)"
   ]
  },
  {
   "cell_type": "markdown",
   "id": "72d6ab62",
   "metadata": {},
   "source": [
    "## 3. Análise Demográfica"
   ]
  },
  {
   "cell_type": "markdown",
   "id": "31b88e6f",
   "metadata": {},
   "source": [
    "Investigamos a distribuição de idade, gênero, escolaridade e estado civil dos clientes. Essa etapa permite identificar o público predominante, possíveis nichos e oportunidades de segmentação.\n",
    "\n",
    "- **Exemplo:** Qual a faixa etária mais comum? Qual o percentual de clientes casados ou solteiros? Qual o nível de escolaridade predominante?"
   ]
  },
  {
   "cell_type": "markdown",
   "id": "4c6fecaf",
   "metadata": {},
   "source": [
    "**Distribuição de escolaridade**"
   ]
  },
  {
   "cell_type": "markdown",
   "id": "5468c3bc",
   "metadata": {},
   "source": [
    "![](/home/diego/Downloads/sql/query5.png)"
   ]
  },
  {
   "cell_type": "markdown",
   "id": "27f85974",
   "metadata": {},
   "source": [
    "- *Curiosamente, a escolaridade predominante é de pessoas que possuem mestrado.*"
   ]
  },
  {
   "cell_type": "markdown",
   "id": "d3eea5b0",
   "metadata": {},
   "source": [
    "**Distribuição de estado civil**"
   ]
  },
  {
   "cell_type": "markdown",
   "id": "d790b74e",
   "metadata": {},
   "source": [
    "![](/home/diego/Downloads/sql/query6.png)"
   ]
  },
  {
   "cell_type": "markdown",
   "id": "e99aca6f",
   "metadata": {},
   "source": [
    "- *Temos uma predominancia de pessoas casadas no dataset.*"
   ]
  },
  {
   "cell_type": "markdown",
   "id": "45dff286",
   "metadata": {},
   "source": [
    "**Distribuição de clientes por sexo**"
   ]
  },
  {
   "cell_type": "markdown",
   "id": "7899a30b",
   "metadata": {},
   "source": [
    "![](/home/diego/Downloads/sql/query7.png)"
   ]
  },
  {
   "cell_type": "markdown",
   "id": "e7309a95",
   "metadata": {},
   "source": [
    "- *Temos mais clientes mulheres que homens.*"
   ]
  },
  {
   "cell_type": "markdown",
   "id": "95d0cca8",
   "metadata": {},
   "source": [
    "**Distribuição por faixa etaria**"
   ]
  },
  {
   "cell_type": "markdown",
   "id": "f0c2774b",
   "metadata": {},
   "source": [
    "![](/home/diego/Downloads/sql/query8.png)"
   ]
  },
  {
   "cell_type": "markdown",
   "id": "af396508",
   "metadata": {},
   "source": [
    "- *Temos a predominancia de clientes entre 35 a 54 anos.* "
   ]
  },
  {
   "cell_type": "markdown",
   "id": "171c7fa9",
   "metadata": {},
   "source": [
    "## 4. Análise Socioeconômica"
   ]
  },
  {
   "cell_type": "markdown",
   "id": "67ab9aaa",
   "metadata": {},
   "source": [
    "Analisamos a distribuição dos clientes por faixa de renda, buscando entender o poder aquisitivo dos diferentes segmentos\n"
   ]
  },
  {
   "cell_type": "markdown",
   "id": "b27d2472",
   "metadata": {},
   "source": [
    "**Distribuição por faixa de renda**"
   ]
  },
  {
   "cell_type": "markdown",
   "id": "5b1ca176",
   "metadata": {},
   "source": [
    "![](/home/diego/Downloads/sql/query9.png)"
   ]
  },
  {
   "cell_type": "markdown",
   "id": "a3d1ac65",
   "metadata": {},
   "source": [
    "- *A faixa etaria predominate é menor que $40k.*"
   ]
  },
  {
   "cell_type": "markdown",
   "id": "b44c87c5",
   "metadata": {},
   "source": [
    "**Média de limite_credito por faixa de renda**"
   ]
  },
  {
   "cell_type": "markdown",
   "id": "67423a3d",
   "metadata": {},
   "source": [
    "![](/home/diego/Downloads/sql/query10.png)"
   ]
  },
  {
   "cell_type": "markdown",
   "id": "c013cbf2",
   "metadata": {},
   "source": [
    "- *Como ja era esperado, quanto maior a faixa de renda, maior o limite de credito.*"
   ]
  },
  {
   "cell_type": "markdown",
   "id": "b785aa4f",
   "metadata": {},
   "source": [
    "## 5. Análise Financeira\n",
    "Exploramos os valores de crédito e gastos dos clientes, identificando médias, desvios e possíveis outliers. Avaliamos a correlação entre idade e valor de crédito, além de analisar os clientes com maiores valores de crédito.\n",
    "\n",
    "- **Exemplo:** Existe relação entre idade e valor de crédito? Quem são os clientes com maiores limites?"
   ]
  },
  {
   "cell_type": "markdown",
   "id": "e9f310cd",
   "metadata": {},
   "source": [
    "**Correlação entre idade e limite de crédito**"
   ]
  },
  {
   "cell_type": "markdown",
   "id": "b5a39dca",
   "metadata": {},
   "source": [
    "![](/home/diego/Downloads/sql/query11.png)"
   ]
  },
  {
   "cell_type": "markdown",
   "id": "228f2dd5",
   "metadata": {},
   "source": [
    "- *Não existe praticamente nenhuma corelação enter a idade e o limite de credito, pois uma correlação de 0.0129 é muito baixa.*"
   ]
  },
  {
   "cell_type": "markdown",
   "id": "2126a0c3",
   "metadata": {},
   "source": [
    "**Clientes com maior limite de credito**"
   ]
  },
  {
   "cell_type": "markdown",
   "id": "ec533b08",
   "metadata": {},
   "source": [
    "![](/home/diego/Downloads/sql/query12.png)"
   ]
  },
  {
   "cell_type": "markdown",
   "id": "35436e4c",
   "metadata": {},
   "source": [
    "- *Aqui conseguimos ver que os clientes com maior limite de credito estão na meia idade, com faixa salarial de $60k ou mais, todos com 3 produtos ou mais contratados além de ter uma quantidade significativa de transações.*"
   ]
  },
  {
   "cell_type": "markdown",
   "id": "b5fa81c5",
   "metadata": {},
   "source": [
    "## 6. Segmentação de Clientes\n",
    "Com base nas análises anteriores, segmentamos os clientes por características relevantes (escolaridade, faixa de renda, estado civil, gênero) para identificar grupos de interesse e possíveis estratégias de atuação.\n"
   ]
  },
  {
   "cell_type": "markdown",
   "id": "395fd585",
   "metadata": {},
   "source": [
    "**Média e soma do valor de transações por escolaridade**"
   ]
  },
  {
   "cell_type": "markdown",
   "id": "01240101",
   "metadata": {},
   "source": [
    "![](/home/diego/Downloads/sql/query13.png)"
   ]
  },
  {
   "cell_type": "markdown",
   "id": "6ba2724c",
   "metadata": {},
   "source": [
    "**Média e soma do valor de transações por faixa de renda**"
   ]
  },
  {
   "cell_type": "markdown",
   "id": "91f57357",
   "metadata": {},
   "source": [
    "![](/home/diego/Downloads/sql/query14.png)"
   ]
  },
  {
   "cell_type": "markdown",
   "id": "2ab98645",
   "metadata": {},
   "source": [
    "**Média e soma do valor de transações por estado civil**"
   ]
  },
  {
   "cell_type": "markdown",
   "id": "12721f77",
   "metadata": {},
   "source": [
    "![](/home/diego/Downloads/sql/query15.png)"
   ]
  },
  {
   "cell_type": "markdown",
   "id": "6dd74102",
   "metadata": {},
   "source": [
    "**Média e soma do valor de transações por gênero**"
   ]
  },
  {
   "cell_type": "markdown",
   "id": "1bf2492a",
   "metadata": {},
   "source": [
    "![](/home/diego/Downloads/sql/query16.png)"
   ]
  },
  {
   "cell_type": "markdown",
   "id": "c78f63e7",
   "metadata": {},
   "source": [
    "**Identificar grupos subatendidos: segmentos com baixo total de transações**"
   ]
  },
  {
   "cell_type": "markdown",
   "id": "04e5ba23",
   "metadata": {},
   "source": [
    "![](/home/diego/Downloads/sql/query17.png)"
   ]
  },
  {
   "cell_type": "markdown",
   "id": "531be9fa",
   "metadata": {},
   "source": [
    "## Conclusão"
   ]
  },
  {
   "cell_type": "markdown",
   "id": "eb7499ed",
   "metadata": {},
   "source": [
    "O projeto permitiu uma compreensão abrangente do perfil dos clientes, identificando padrões demográficos, socioeconômicos e financeiros que podem orientar estratégias de negócio. A partir das análises realizadas, destacam-se os seguintes pontos:"
   ]
  },
  {
   "cell_type": "markdown",
   "id": "5ef33e90",
   "metadata": {},
   "source": [
    "1. **Perfil Demográfico:**\n",
    "\n",
    "    A maioria dos clientes está na faixa etária de 35 a 54 anos, é casada, possui mestrado e há uma predominância de mulheres. Isso sugere oportunidades de segmentação para produtos que atendam às necessidades desse grupo, como planos familiares ou serviços educacionais complementares.\n",
    "\n",
    "2. **Características Socioeconômicas:**\n",
    "\n",
    "    A faixa de renda mais comum é inferior a $40k, mas clientes comrenda acima de $60k apresentam os maiores limites de crédito. Isso reforça a importância de oferecer opções diferenciadas para clientes de alta renda, como cartões premium ou benefícios exclusivos.\n",
    "\n",
    "3. **Comportamento Financeiro:**\n",
    "\n",
    "    Não há correlação significativa entre idade e limite de crédito, indicando que políticas de crédito podem ser mais influenciadas por fatores como renda e histórico de transações. Os clientes com maiores limites tendem a ter múltiplos produtos contratados e alto volume de transações, sugerindo fidelização por meio de pacotes integrados. \n",
    "\n",
    "4. **Segmentação e Oportunidades:**\n",
    "\n",
    "    Grupos como solteiros e clientes com ensino médio apresentaram menor volume de transações, indicando potencial para campanhas direcionadas. Além disso, a alta concentração de clientes com mestrado abre espaço para parcerias com instituições de ensino ou serviços especializados.       "
   ]
  },
  {
   "cell_type": "markdown",
   "id": "e573d52d",
   "metadata": {},
   "source": [
    "**Recomendações:**\n",
    "\n",
    "- Desenvolver programas de fidelização para clientes de alta renda, oferecendo benefícios como cashback ou taxas reduzidas.\n",
    "\n",
    "- Criar campanhas de marketing direcionadas a grupos subatendidos (solteiros, ensino médio) para aumentar engajamento.\n",
    "\n",
    "- Aprimorar políticas de crédito com base em renda e histórico de transações, em vez de fatores demográficos isolados."
   ]
  },
  {
   "cell_type": "markdown",
   "id": "b09aeed0",
   "metadata": {},
   "source": [
    "**Próximos Passos:**\n",
    "\n",
    "- Investigar as causas do baixo volume de transações em certos segmentos por meio de pesquisas qualitativas.\n",
    "\n",
    "- Analisar o impacto de variáveis como tempo de relacionamento com o banco e inadimplência.\n",
    "\n",
    "- Explorar técnicas de machine learning para prever propensão a contratar novos produtos."
   ]
  },
  {
   "cell_type": "markdown",
   "id": "36e6080d",
   "metadata": {},
   "source": [
    "Em resumo, a análise oferece um sólido embasamento para decisões estratégicas, destacando a importância de personalizar ofertas e otimizar políticas com base em dados concretos."
   ]
  }
 ],
 "metadata": {
  "kernelspec": {
   "display_name": "base",
   "language": "python",
   "name": "python3"
  },
  "language_info": {
   "codemirror_mode": {
    "name": "ipython",
    "version": 3
   },
   "file_extension": ".py",
   "mimetype": "text/x-python",
   "name": "python",
   "nbconvert_exporter": "python",
   "pygments_lexer": "ipython3",
   "version": "3.12.7"
  }
 },
 "nbformat": 4,
 "nbformat_minor": 5
}
